{
 "cells": [
  {
   "cell_type": "markdown",
   "id": "d3bfc191-8885-42ee-b0a0-bbab867c6f9f",
   "metadata": {
    "tags": []
   },
   "source": [
    "# Lab | Flow Control"
   ]
  },
  {
   "cell_type": "markdown",
   "id": "3851fcd1-cf98-4653-9c89-e003b7ec9400",
   "metadata": {},
   "source": [
    "## Exercise: Managing Customer Orders Optimized\n",
    "\n",
    "In the last lab, you were starting an online store that sells various products. To ensure smooth operations, you developed a program that manages customer orders and inventory.\n",
    "\n",
    "You did so without using flow control. Let's go a step further and improve this code.\n",
    "\n",
    "Follow the steps below to complete the exercise:\n",
    "\n",
    "1. Look at your code from the lab data structures, and improve repeated code with loops.\n",
    "\n",
    "2. Instead of asking the user to input the name of three products that a customer wants to order, do the following:\n",
    "    \n",
    "    a. Prompt the user to enter the name of a product that a customer wants to order.\n",
    "    \n",
    "    b. Add the product name to the \"customer_orders\" set.\n",
    "    \n",
    "    c. Ask the user if they want to add another product (yes/no).\n",
    "    \n",
    "    d. Continue the loop until the user does not want to add another product.\n",
    "\n",
    "3. Instead of updating the inventory by subtracting 1 from the quantity of each product, only do it for  the products that were ordered (those in \"customer_orders\")."
   ]
  },
  {
   "cell_type": "code",
   "execution_count": 23,
   "id": "99f3042a-a86d-44e6-8960-2a64613b77bf",
   "metadata": {},
   "outputs": [
    {
     "name": "stdin",
     "output_type": "stream",
     "text": [
      "Please enter the quantity of the t-shirt:  40\n",
      "Please enter the quantity of the mug:  70\n",
      "Please enter the quantity of the hat:  80\n",
      "Please enter the quantity of the book:  100\n",
      "Please enter the quantity of the keychain:  40\n"
     ]
    },
    {
     "name": "stdout",
     "output_type": "stream",
     "text": [
      "\n",
      "Inventory: {'t-shirt': 40, 'mug': 70, 'hat': 80, 'book': 100, 'keychain': 40}\n"
     ]
    }
   ],
   "source": [
    "products = [\"t-shirt\", \"mug\", \"hat\", \"book\", \"keychain\"]\n",
    "\n",
    "inventory = {}\n",
    "for product in products:\n",
    "    quantity = int(input(f\"Please enter the quantity of the {product}: \"))\n",
    "    inventory[product] = quantity\n",
    "\n",
    "print(f\"\\nInventory: {inventory}\")"
   ]
  },
  {
   "cell_type": "code",
   "execution_count": 28,
   "id": "df22c9be-7358-44ef-96a6-ff20e612059e",
   "metadata": {},
   "outputs": [
    {
     "name": "stdout",
     "output_type": "stream",
     "text": [
      "These are our products: 't-shirt', 'mug', 'hat', 'book' or 'keychain'\n"
     ]
    },
    {
     "name": "stdin",
     "output_type": "stream",
     "text": [
      "Please enter the name of the product you would like to order:  mug\n",
      "How many mugs do you want to order?:   2\n"
     ]
    },
    {
     "name": "stdout",
     "output_type": "stream",
     "text": [
      "product added!\n"
     ]
    },
    {
     "name": "stdin",
     "output_type": "stream",
     "text": [
      "Do you want to continue? Type 'y' for yes, or 'n' for not:  y\n"
     ]
    },
    {
     "name": "stdout",
     "output_type": "stream",
     "text": [
      "These are our products: 't-shirt', 'mug', 'hat', 'book' or 'keychain'\n"
     ]
    },
    {
     "name": "stdin",
     "output_type": "stream",
     "text": [
      "Please enter the name of the product you would like to order:  book\n",
      "How many books do you want to order?:   4\n"
     ]
    },
    {
     "name": "stdout",
     "output_type": "stream",
     "text": [
      "product added!\n"
     ]
    },
    {
     "name": "stdin",
     "output_type": "stream",
     "text": [
      "Do you want to continue? Type 'y' for yes, or 'n' for not:  y\n"
     ]
    },
    {
     "name": "stdout",
     "output_type": "stream",
     "text": [
      "These are our products: 't-shirt', 'mug', 'hat', 'book' or 'keychain'\n"
     ]
    },
    {
     "name": "stdin",
     "output_type": "stream",
     "text": [
      "Please enter the name of the product you would like to order:  t-shirt\n",
      "How many t-shirts do you want to order?:   2\n"
     ]
    },
    {
     "name": "stdout",
     "output_type": "stream",
     "text": [
      "product added!\n"
     ]
    },
    {
     "name": "stdin",
     "output_type": "stream",
     "text": [
      "Do you want to continue? Type 'y' for yes, or 'n' for not:  n\n"
     ]
    },
    {
     "name": "stdout",
     "output_type": "stream",
     "text": [
      "Your order: {'mug': 2, 'book': 4, 't-shirt': 2}\n",
      "Updated inventory: {'t-shirt': 38, 'mug': 68, 'hat': 80, 'book': 96, 'keychain': 40}\n"
     ]
    }
   ],
   "source": [
    "# Prompt the user to enter the name of a product that a customer wants to order.\n",
    "customer_order = {}\n",
    "\n",
    "answer = 'y'\n",
    "\n",
    "while answer == 'y':\n",
    "    print(\"These are our products: 't-shirt', 'mug', 'hat', 'book' or 'keychain'\")\n",
    "    product = input(\"Please enter the name of the product you would like to order: \")\n",
    "    quantity = int(input(f\"How many {product}s do you want to order?:  \"))\n",
    "    \n",
    "    customer_order[product] = quantity\n",
    "    for key, value in inventory.items():\n",
    "        if key == product:\n",
    "            inventory[key] = value -quantity\n",
    "            \n",
    "    print(\"product added!\")\n",
    "    answer = input(\"Do you want to continue? Type 'y' for yes, or 'n' for not: \")\n",
    "\n",
    "print(f\"Your order: {customer_order}\")\n",
    "print(f\"Updated inventory: {inventory}\")"
   ]
  },
  {
   "cell_type": "code",
   "execution_count": null,
   "id": "9c698eed-3c61-4f74-b286-d1d785b27cf2",
   "metadata": {},
   "outputs": [],
   "source": []
  }
 ],
 "metadata": {
  "kernelspec": {
   "display_name": "Python 3 (ipykernel)",
   "language": "python",
   "name": "python3"
  },
  "language_info": {
   "codemirror_mode": {
    "name": "ipython",
    "version": 3
   },
   "file_extension": ".py",
   "mimetype": "text/x-python",
   "name": "python",
   "nbconvert_exporter": "python",
   "pygments_lexer": "ipython3",
   "version": "3.12.4"
  }
 },
 "nbformat": 4,
 "nbformat_minor": 5
}
